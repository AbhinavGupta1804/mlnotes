{
 "cells": [
  {
   "cell_type": "code",
   "execution_count": null,
   "metadata": {
    "vscode": {
     "languageId": "plaintext"
    }
   },
   "outputs": [],
   "source": [
    "FROM python:3.7-alpine\n",
    "WORKDIR /code\n",
    "ENV FLASK_APP = app.py\n",
    "ENV FLASK_RUN_HOST = 0.0.0.0\n",
    "COPY . .           #push all files from currnt location into code folder\n",
    "RUN pip install -r requirements.txt\n",
    "EXPOSE 5000 \n",
    "CMD [\"flask\",\"run\"] #starts the Flask web server inside the container\n"
   ]
  },
  {
   "cell_type": "markdown",
   "metadata": {},
   "source": [
    "we have used this particular python file because it is small in size and created as a base and run it as a container\n",
    "\n",
    "## copy\n",
    "The first dot (.) refers to the source directory (the current directory where you are running docker build).\n",
    "\n",
    "The second dot (.) refers to the destination directory inside the container (which is the current WORKDIR, if set).\n",
    "\n",
    "If you have a WORKDIR defined before COPY . ., then the second dot will copy files inside that\n",
    "\n",
    "\n",
    "## EXPOSE 5000\n",
    "It tells Docker that the container will use port 5000."
   ]
  },
  {
   "cell_type": "markdown",
   "metadata": {},
   "source": [
    "\n",
    "## ENV FLASK_APP = app.py & ENV FLASK_RUN_HOST = 0.0.0.0\n",
    "FLASK_APP=app.py → It tells Flask which Python file to run when you start the app.\n",
    "\n",
    "This sets an environment variable called FLASK_APP with the value app.py, which tells Flask which file to run when using the flask run command\n",
    "\n",
    "FLASK_RUN_HOST=0.0.0.0 → It makes the Flask app accessible from outside the container (not just inside it).\n",
    "\n",
    "Why is this needed?\n",
    "\n",
    "By default, Flask runs only inside the container (like a locked room).\n",
    "Setting FLASK_RUN_HOST=0.0.0.0 allows other devices (like your laptop) to access the app.\n",
    "\n",
    "ENV FLASK_RUN_HOST=0.0.0.0 → Think of it like opening a restaurant to serve customers outside instead of only inside the kitchen"
   ]
  }
 ],
 "metadata": {
  "language_info": {
   "name": "python"
  }
 },
 "nbformat": 4,
 "nbformat_minor": 2
}
